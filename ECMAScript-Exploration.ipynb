{
 "cells": [
  {
   "cell_type": "markdown",
   "metadata": {
    "slideshow": {
     "slide_type": "-"
    }
   },
   "source": [
    "# ECMAScript Exploraion, Revisit"
   ]
  },
  {
   "cell_type": "markdown",
   "metadata": {
    "slideshow": {
     "slide_type": "-"
    }
   },
   "source": [
    "## OUTLINE\n",
    "\n",
    "- ### Symbol\n",
    "- ### Iteration\n",
    "- ### Protocol\n",
    "- ### Generator\n",
    "- ### Map\n",
    "- ### Set\n",
    "- ### More on Protocol"
   ]
  },
  {
   "cell_type": "markdown",
   "metadata": {},
   "source": [
    "# `Symbol`"
   ]
  },
  {
   "cell_type": "markdown",
   "metadata": {},
   "source": [
    "> ### ES6 symbols are values, but they’re not strings. They’re not objects. They’re something new: *a seventh type of value*."
   ]
  },
  {
   "cell_type": "markdown",
   "metadata": {},
   "source": [
    "### And these are the rest of six ofprimitive types of Javascript.\n",
    "\n",
    "- `null`\n",
    "- `undefined`\n",
    "- `Boolean`\n",
    "- `String`\n",
    "- `Number`\n",
    "- `Bigint`"
   ]
  },
  {
   "cell_type": "code",
   "execution_count": 1,
   "metadata": {},
   "outputs": [
    {
     "data": {
      "text/plain": [
       "'symbol'"
      ]
     },
     "execution_count": 1,
     "metadata": {},
     "output_type": "execute_result"
    }
   ],
   "source": [
    "typeof Symbol()"
   ]
  },
  {
   "cell_type": "code",
   "execution_count": 2,
   "metadata": {},
   "outputs": [
    {
     "data": {
      "text/plain": [
       "Symbol()"
      ]
     },
     "execution_count": 2,
     "metadata": {},
     "output_type": "execute_result"
    }
   ],
   "source": [
    "Symbol()"
   ]
  },
  {
   "cell_type": "code",
   "execution_count": 3,
   "metadata": {},
   "outputs": [
    {
     "ename": "TypeError",
     "evalue": "Symbol is not a constructor",
     "output_type": "error",
     "traceback": [
      "evalmachine.<anonymous>:1",
      "new Symbol();",
      "^",
      "",
      "TypeError: Symbol is not a constructor",
      "    at new Symbol (<anonymous>)",
      "    at evalmachine.<anonymous>:1:1",
      "    at Script.runInThisContext (vm.js:123:20)",
      "    at Object.runInThisContext (vm.js:313:38)",
      "    at run ([eval]:1054:15)",
      "    at onRunRequest ([eval]:888:18)",
      "    at onMessage ([eval]:848:13)",
      "    at process.emit (events.js:203:13)",
      "    at emit (internal/child_process.js:876:12)",
      "    at processTicksAndRejections (internal/process/task_queues.js:77:11)"
     ]
    }
   ],
   "source": [
    "new Symbol();"
   ]
  },
  {
   "cell_type": "markdown",
   "metadata": {},
   "source": [
    "## Why we need symbol ?\n",
    "\n",
    "> ### Symbols are *unique* so They are good at being *keys* for preventing keyname collision."
   ]
  },
  {
   "cell_type": "code",
   "execution_count": 4,
   "metadata": {},
   "outputs": [
    {
     "data": {
      "text/plain": [
       "false"
      ]
     },
     "execution_count": 4,
     "metadata": {},
     "output_type": "execute_result"
    }
   ],
   "source": [
    "// symbol is unique\n",
    "\n",
    "var uniq = Symbol('uniq')  // create symbol with descriptor not a string.\n",
    "\n",
    "uniq === Symbol('uniq');"
   ]
  },
  {
   "cell_type": "code",
   "execution_count": 5,
   "metadata": {},
   "outputs": [
    {
     "data": {
      "text/plain": [
       "true"
      ]
     },
     "execution_count": 5,
     "metadata": {},
     "output_type": "execute_result"
    }
   ],
   "source": [
    "// use symbol in global scope\n",
    "\n",
    "var for_uniq = Symbol.for('for_uniq');  // registry in global scope.\n",
    "for_uniq === Symbol.for('for_uniq');"
   ]
  },
  {
   "cell_type": "code",
   "execution_count": 6,
   "metadata": {},
   "outputs": [
    {
     "name": "stdout",
     "output_type": "stream",
     "text": [
      "uniq undefined undefined\n"
     ]
    }
   ],
   "source": [
    "// using symbol as key\n",
    "\n",
    "var o = { prop1: 1, prop2: 2 };\n",
    "o[uniq] = 'uniq';\n",
    "\n",
    "console.log(o[uniq], o['uniq'], o[Symbol('uniq')])"
   ]
  },
  {
   "cell_type": "markdown",
   "metadata": {},
   "source": [
    "### Symbols might be used as private properties."
   ]
  },
  {
   "cell_type": "code",
   "execution_count": 7,
   "metadata": {},
   "outputs": [
    {
     "data": {
      "text/plain": [
       "[ 'prop1', 'prop2' ]"
      ]
     },
     "execution_count": 7,
     "metadata": {},
     "output_type": "execute_result"
    }
   ],
   "source": [
    "Object.getOwnPropertyNames(o)"
   ]
  },
  {
   "cell_type": "code",
   "execution_count": 8,
   "metadata": {},
   "outputs": [
    {
     "data": {
      "text/plain": [
       "[ Symbol(uniq) ]"
      ]
     },
     "execution_count": 8,
     "metadata": {},
     "output_type": "execute_result"
    }
   ],
   "source": [
    "// but they can retrive by\n",
    "\n",
    "Object.getOwnPropertySymbols(o)  // no more private ?"
   ]
  },
  {
   "cell_type": "markdown",
   "metadata": {},
   "source": [
    "### Is `Symbol` delcaration more  memory effient than just `String` ?"
   ]
  },
  {
   "cell_type": "code",
   "execution_count": 9,
   "metadata": {},
   "outputs": [
    {
     "data": {
      "text/plain": [
       "0.921875"
      ]
     },
     "execution_count": 9,
     "metadata": {},
     "output_type": "execute_result"
    }
   ],
   "source": [
    "// helper for get memory heap of current process.\n",
    "function getCurrentMem() { return process.memoryUsage().heapUsed / 1024 }\n",
    "\n",
    "// trying to measure symbol mem usage after declar\n",
    "var mem1 = getCurrentMem()\n",
    "var newSymbol = Symbol();\n",
    "getCurrentMem() - mem1;"
   ]
  },
  {
   "cell_type": "code",
   "execution_count": 10,
   "metadata": {},
   "outputs": [
    {
     "data": {
      "text/plain": [
       "0.2734375"
      ]
     },
     "execution_count": 10,
     "metadata": {},
     "output_type": "execute_result"
    }
   ],
   "source": [
    "// and compare with simple string but it seems not work.\n",
    "var mem = getCurrentMem();\n",
    "var newSymbol2 = 'newSYmbol';\n",
    "getCurrentMem() - mem;"
   ]
  },
  {
   "cell_type": "markdown",
   "metadata": {},
   "source": [
    "## Iteration Object\n",
    "\n",
    "---\n",
    "\n",
    "> Iteration object is the object that can be looped over `for...of` construct."
   ]
  },
  {
   "cell_type": "code",
   "execution_count": 11,
   "metadata": {},
   "outputs": [
    {
     "name": "stdout",
     "output_type": "stream",
     "text": [
      "S\n",
      "t\n",
      "r\n",
      "i\n",
      "n\n",
      "g\n",
      " \n",
      "i\n",
      "s\n",
      " \n",
      "i\n",
      "t\n",
      "e\n",
      "r\n",
      "a\n",
      "b\n",
      "l\n",
      "e\n",
      "!\n"
     ]
    }
   ],
   "source": [
    "// String is iteration object.\n",
    "\n",
    "var iterString = 'String is iterable!';\n",
    "for (s of iterString) \n",
    "    console.log(s);"
   ]
  },
  {
   "cell_type": "code",
   "execution_count": 12,
   "metadata": {},
   "outputs": [
    {
     "name": "stdout",
     "output_type": "stream",
     "text": [
      "1\n",
      "2\n",
      "3\n"
     ]
    }
   ],
   "source": [
    "// Array also is iteration object.\n",
    "\n",
    "var iterArray = [1,2,3];\n",
    "for (i of iterArray)\n",
    "    console.log(i)"
   ]
  },
  {
   "cell_type": "code",
   "execution_count": 13,
   "metadata": {},
   "outputs": [
    {
     "data": {
      "text/plain": [
       "[\n",
       "  'S', 't', 'r', 'i', 'n',\n",
       "  'g', ' ', 'i', 's', ' ',\n",
       "  'i', 't', 'e', 'r', 'a',\n",
       "  'b', 'l', 'e', '!'\n",
       "]"
      ]
     },
     "execution_count": 13,
     "metadata": {},
     "output_type": "execute_result"
    }
   ],
   "source": [
    "// Iteration object can be spreaded\n",
    "\n",
    "[...iterString]"
   ]
  },
  {
   "cell_type": "markdown",
   "metadata": {},
   "source": [
    "## How can those objects do iteration ? .... Protocol\n",
    "\n",
    "----\n",
    "\n",
    "> Protocol is a set of definitions to implement in order to conform with constructs."
   ]
  },
  {
   "cell_type": "markdown",
   "metadata": {},
   "source": [
    "## Iterable and Iterator Protocol\n",
    "\n",
    "---\n",
    "\n",
    "> To say an object is iterable means that object must implement the `iterable` protocol. The same case with `iterator`\n",
    "\n",
    "### What is iterable protocol look like ?\n",
    "\n",
    "> A property `Symbol.iterator` (`@@iterator`) which is a zero-args function that returns an object with `next` property return `done` and `value` as keys\n"
   ]
  },
  {
   "cell_type": "code",
   "execution_count": 14,
   "metadata": {},
   "outputs": [
    {
     "name": "stdout",
     "output_type": "stream",
     "text": [
      "The iteration finish.\n"
     ]
    }
   ],
   "source": [
    "var noneIter = {\n",
    "    //    iterable                              iterator\n",
    "    // |--- vvv ---------|   | ------------------- vvv --------------------------------|\n",
    "    [Symbol.iterator]: () => ({ next: () => ({ done: true, value: 'never been sent.' })})\n",
    "}\n",
    "\n",
    "for (i of noneIter) \n",
    "    console.log('never reach but not error by for..of', i)\n",
    "\n",
    "console.log('The iteration finish.')"
   ]
  },
  {
   "cell_type": "code",
   "execution_count": 16,
   "metadata": {},
   "outputs": [
    {
     "name": "stdout",
     "output_type": "stream",
     "text": [
      "!!This will be error since next method not implemented.\n"
     ]
    }
   ],
   "source": [
    "var iterableOnly = {\n",
    "    next: () => ({ done: true }),\n",
    "    [Symbol.iterator]: function() { return this }\n",
    "}\n",
    "\n",
    "console.log('!!This will be error since next method not implemented.');\n",
    "            \n",
    "for (i of iterableOnly)\n",
    "    console.log(i)"
   ]
  },
  {
   "cell_type": "code",
   "execution_count": 17,
   "metadata": {},
   "outputs": [
    {
     "name": "stdout",
     "output_type": "stream",
     "text": [
      "words.\n",
      "no\n",
      "said\n",
      "who\n",
      "–\n",
      "words\n",
      "no\n",
      "are\n",
      "words\n",
      "Good\n"
     ]
    }
   ],
   "source": [
    "// need to construct a String object explicitly to avoid auto-boxing\n",
    "var reversedWords = new String(\"Good words are no words – who said no words.\");\n",
    "\n",
    "reversedWords[Symbol.iterator] = function() {\n",
    "    return {\n",
    "        next: function () {\n",
    "            if (this._words.length)\n",
    "                return { value: this._words.pop(), done: false }\n",
    "            return { done: true }  // for loop will be stop by done value is true\n",
    "        },\n",
    "        _words: this.split(' ')  // keep original\n",
    "    }\n",
    "};\n",
    "\n",
    "for (const word of reversedWords) {\n",
    "    console.log(word)\n",
    "}"
   ]
  },
  {
   "cell_type": "code",
   "execution_count": 18,
   "metadata": {},
   "outputs": [
    {
     "data": {
      "text/plain": [
       "[\n",
       "  'words.', 'no',\n",
       "  'said',   'who',\n",
       "  '–',      'words',\n",
       "  'no',     'are',\n",
       "  'words',  'Good'\n",
       "]"
      ]
     },
     "execution_count": 18,
     "metadata": {},
     "output_type": "execute_result"
    }
   ],
   "source": [
    "[...reversedWords]"
   ]
  },
  {
   "cell_type": "code",
   "execution_count": 19,
   "metadata": {},
   "outputs": [
    {
     "name": "stdout",
     "output_type": "stream",
     "text": [
      "1 { value: 'words.', done: false }\n",
      "2 no\n",
      "3 false\n",
      "4 { value: 'who', done: false }\n"
     ]
    }
   ],
   "source": [
    "// use `next`\n",
    "var reversedIter = reversedWords[Symbol.iterator]()\n",
    "\n",
    "console.log(1, reversedIter.next())\n",
    "console.log(2, reversedIter.next().value)\n",
    "console.log(3, reversedIter.next().done)\n",
    "console.log(4, reversedIter.next())"
   ]
  },
  {
   "cell_type": "markdown",
   "metadata": {},
   "source": [
    "----\n",
    "\n",
    "## `Generator` and `Generator function`\n",
    "\n",
    "----\n",
    "\n",
    "> `Generator` is object that generate any values which initiated by `Generator function`. Generator is both iterator and iterable"
   ]
  },
  {
   "cell_type": "code",
   "execution_count": 20,
   "metadata": {},
   "outputs": [
    {
     "data": {
      "text/plain": [
       "[Function: [Symbol.iterator]]"
      ]
     },
     "execution_count": 20,
     "metadata": {},
     "output_type": "execute_result"
    }
   ],
   "source": [
    "function* generatorFn() { yield '!!' }\n",
    "var generator = generatorFn();\n",
    "\n",
    "generator[Symbol.iterator]; // implemented iterable protocol."
   ]
  },
  {
   "cell_type": "code",
   "execution_count": 21,
   "metadata": {},
   "outputs": [
    {
     "name": "stdout",
     "output_type": "stream",
     "text": [
      "Object [Generator] {}\n",
      "1 { value: [ 1 ], done: false }\n",
      "2 { value: 2, done: false }\n",
      "3 { value: true, done: false }\n",
      "4 { value: undefined, done: false }\n",
      "5 { value: Symbol(generator!), done: false }\n",
      "last { value: undefined, done: true }\n"
     ]
    }
   ],
   "source": [
    "// Yield can be used only inside generator\n",
    "function* anyGen() {\n",
    "    yield [1];\n",
    "    yield 2;\n",
    "    yield true;\n",
    "    yield undefined;\n",
    "    yield Symbol('generator!');\n",
    "}\n",
    "\n",
    "var gen = anyGen();\n",
    "\n",
    "console.log(gen)\n",
    "console.log(1, gen.next())\n",
    "console.log(2, gen.next())\n",
    "console.log(3, gen.next())\n",
    "console.log(4, gen.next())\n",
    "console.log(5, gen.next())\n",
    "console.log('last', gen.next())"
   ]
  },
  {
   "cell_type": "code",
   "execution_count": 22,
   "metadata": {},
   "outputs": [
    {
     "data": {
      "text/plain": [
       "{ value: undefined, done: true }"
      ]
     },
     "execution_count": 22,
     "metadata": {},
     "output_type": "execute_result"
    }
   ],
   "source": [
    "gen.next()\n",
    "gen.next()"
   ]
  },
  {
   "cell_type": "code",
   "execution_count": 23,
   "metadata": {},
   "outputs": [
    {
     "name": "stdout",
     "output_type": "stream",
     "text": [
      "[ 1 ]\n",
      "2\n",
      "true\n",
      "undefined\n",
      "Symbol(generator!)\n"
     ]
    }
   ],
   "source": [
    "for (item of anyGen()) {\n",
    "    console.log(item)\n",
    "}"
   ]
  },
  {
   "cell_type": "code",
   "execution_count": 24,
   "metadata": {},
   "outputs": [
    {
     "data": {
      "text/plain": [
       "[ [ 1 ], 2, true, undefined, Symbol(generator!) ]"
      ]
     },
     "execution_count": 24,
     "metadata": {},
     "output_type": "execute_result"
    }
   ],
   "source": [
    "[...anyGen()]"
   ]
  },
  {
   "cell_type": "code",
   "execution_count": 25,
   "metadata": {},
   "outputs": [
    {
     "name": "stdout",
     "output_type": "stream",
     "text": [
      "words.\n",
      "no\n",
      "said\n",
      "who\n",
      "–\n",
      "words\n",
      "no\n",
      "are\n",
      "words\n",
      "Good\n"
     ]
    },
    {
     "data": {
      "text/plain": [
       "'words. no said who – words no are words Good'"
      ]
     },
     "execution_count": 25,
     "metadata": {},
     "output_type": "execute_result"
    }
   ],
   "source": [
    "// revise reversedWord with generator\n",
    "\n",
    "var reversedWords = new String(\"Good words are no words – who said no words.\");\n",
    "\n",
    "reversedWords[Symbol.iterator] = function* () {\n",
    "    let _words = this.split(' ')\n",
    "    while (_words.length)\n",
    "        yield _words.pop();\n",
    "};\n",
    "\n",
    "for (const word of reversedWords) {\n",
    "    console.log(word)\n",
    "}\n",
    "\n",
    "[...reversedWords].join(' ')"
   ]
  },
  {
   "cell_type": "code",
   "execution_count": 26,
   "metadata": {},
   "outputs": [
    {
     "name": "stdout",
     "output_type": "stream",
     "text": [
      "{ value: 0, done: false }\n",
      "{ value: 2, done: false }\n",
      "{ value: 12, done: false }\n",
      "{ value: 12, done: false }\n",
      "{ value: 13, done: false }\n"
     ]
    }
   ],
   "source": [
    "// passing arguement in next\n",
    "\n",
    "function* coGenerator () {\n",
    "    let sum = 0\n",
    "    let input;\n",
    "    while (true) {\n",
    "        input = yield sum\n",
    "        if (input) sum += input\n",
    "    }\n",
    "}\n",
    "\n",
    "var coGen = coGenerator()\n",
    "\n",
    "console.log(coGen.next())\n",
    "console.log(coGen.next(2))\n",
    "console.log(coGen.next(10))\n",
    "console.log(coGen.next())\n",
    "console.log(coGen.next(1))"
   ]
  },
  {
   "cell_type": "code",
   "execution_count": 29,
   "metadata": {},
   "outputs": [
    {
     "name": "stdout",
     "output_type": "stream",
     "text": [
      "ok!!\n"
     ]
    }
   ],
   "source": [
    "// Async / Await generator\n",
    "\n",
    "async function* aGenerator() {\n",
    "    // delay 1 sec\n",
    "    await new Promise(resolve => setTimeout(resolve, 1500))\n",
    "    \n",
    "    yield 'ok!!'\n",
    "}\n",
    "\n",
    "(async () => {\n",
    "    for await (i of aGenerator())\n",
    "        console.log(i)\n",
    "})()"
   ]
  },
  {
   "cell_type": "markdown",
   "metadata": {},
   "source": [
    "---\n",
    "\n",
    "## Use of generators ?\n",
    "\n",
    "---\n",
    "\n",
    "> ### Memory efficient when dealing looping over milions of records from database or milions of lines in files since generator is lazy evaluation function.\n",
    "\n",
    "\n",
    "> ### Infinite Stream of data."
   ]
  },
  {
   "cell_type": "markdown",
   "metadata": {},
   "source": [
    "---\n",
    "\n",
    "## Who can eat up iterable object as initial argument ?\n",
    "\n",
    "---\n",
    "\n",
    "- `Map`\n",
    "- `Set`\n",
    "- `WeakMap`\n",
    "- `WeakSet`\n",
    "- `Promise.all`\n",
    "- `Promise.race`\n",
    "- `Array.from`"
   ]
  },
  {
   "cell_type": "code",
   "execution_count": 30,
   "metadata": {},
   "outputs": [
    {
     "data": {
      "text/plain": [
       "[\n",
       "  'words.', 'no',\n",
       "  'said',   'who',\n",
       "  '–',      'words',\n",
       "  'no',     'are',\n",
       "  'words',  'Good'\n",
       "]"
      ]
     },
     "execution_count": 30,
     "metadata": {},
     "output_type": "execute_result"
    }
   ],
   "source": [
    "Array.from(reversedWords)"
   ]
  },
  {
   "cell_type": "code",
   "execution_count": 31,
   "metadata": {},
   "outputs": [
    {
     "data": {
      "text/plain": [
       "Map { Symbol() => 'RED', Symbol() => 'GREEN', Symbol() => 'BLUE' }"
      ]
     },
     "execution_count": 31,
     "metadata": {},
     "output_type": "execute_result"
    }
   ],
   "source": [
    "function* initColorMap() {\n",
    "    yield [Symbol(), 'RED']\n",
    "    yield [Symbol(), 'GREEN']\n",
    "    yield [Symbol(), 'BLUE']\n",
    "}\n",
    "\n",
    "new Map(initColorMap())"
   ]
  },
  {
   "cell_type": "markdown",
   "metadata": {},
   "source": [
    "-----\n",
    "Map\n",
    "-----\n",
    "\n",
    "> The Map object holds **key-value pairs** and remembers the original insertion **order** of the keys. Any value (both objects and primitive values) may be used as either a key or a value.\n",
    "\n",
    "\n",
    "---\n",
    "Map vs Object\n",
    "---\n",
    "\n",
    "### 1. Map start with no keys but Object not (storing prototype ...)"
   ]
  },
  {
   "cell_type": "code",
   "execution_count": 32,
   "metadata": {},
   "outputs": [
    {
     "name": "stdout",
     "output_type": "stream",
     "text": [
      "Map {}\n",
      "Map {}\n",
      "{}\n",
      "{}\n"
     ]
    }
   ],
   "source": [
    "var aMap = new Map();\n",
    "var o = {};\n",
    "\n",
    "console.dir(aMap);\n",
    "console.log(aMap.__proto__)\n",
    "console.dir({});\n",
    "console.dir(o.__proto__)"
   ]
  },
  {
   "cell_type": "markdown",
   "metadata": {},
   "source": [
    "### 2. Map's keys can be any value but Object must be  either `String` or `Symbol`"
   ]
  },
  {
   "cell_type": "code",
   "execution_count": 33,
   "metadata": {},
   "outputs": [
    {
     "name": "stdout",
     "output_type": "stream",
     "text": [
      "Map Keys\n",
      "┌───────────────────┬────────────────┐\n",
      "│ (iteration index) │     Values     │\n",
      "├───────────────────┼────────────────┤\n",
      "│         0         │    'string'    │\n",
      "│         1         │       1        │\n",
      "│         2         │      1.1       │\n",
      "│         3         │      NaN       │\n",
      "│         4         │ [Function: fn] │\n",
      "│         5         │    Symbol()    │\n",
      "└───────────────────┴────────────────┘\n",
      "Object Keys\n",
      "┌─────────┬─────────────────┐\n",
      "│ (index) │     Values      │\n",
      "├─────────┼─────────────────┤\n",
      "│    0    │       '1'       │\n",
      "│    1    │    'string'     │\n",
      "│    2    │      '1.1'      │\n",
      "│    3    │      'NaN'      │\n",
      "│    4    │ 'function() {}' │\n",
      "└─────────┴─────────────────┘\n"
     ]
    }
   ],
   "source": [
    "var aMap = new Map()\n",
    "var o = {}\n",
    "\n",
    "aMap.set('string', 'string')\n",
    "o['string'] = 'string'\n",
    "\n",
    "aMap.set(1, 'integer')\n",
    "o[1] = 'integer' // this will be coverted into string of '1'\n",
    "\n",
    "aMap.set(1.1, 'floating')\n",
    "o[1.1] = 'floating'\n",
    "\n",
    "aMap.set(NaN, 'NaN NaN')\n",
    "o[NaN] = 'Oh NaN'\n",
    "\n",
    "var fn = function() {}\n",
    "\n",
    "aMap.set(fn, 'function')\n",
    "o[fn] = 'function'\n",
    "\n",
    "aMap.set(Symbol(), 'symbol')\n",
    "o[Symbol('random')] = 'symbol'; // It wont show because Symbol in object intend to be private\n",
    "\n",
    "// table map\n",
    "console.log('Map Keys')\n",
    "console.table(aMap.keys())\n",
    "\n",
    "// table object\n",
    "console.log('Object Keys')\n",
    "console.table(Object.keys(o))\n",
    "\n",
    "// please notice order-ness"
   ]
  },
  {
   "cell_type": "markdown",
   "metadata": {},
   "source": [
    "### 3. Getting Size"
   ]
  },
  {
   "cell_type": "code",
   "execution_count": 34,
   "metadata": {},
   "outputs": [
    {
     "name": "stdout",
     "output_type": "stream",
     "text": [
      "Size of Map 6\n",
      "Size of Object 5\n"
     ]
    }
   ],
   "source": [
    "console.log('Size of Map', aMap.size);\n",
    "console.log('Size of Object', Object.keys(o).length)"
   ]
  },
  {
   "cell_type": "markdown",
   "metadata": {},
   "source": [
    "### 4. Key checking"
   ]
  },
  {
   "cell_type": "code",
   "execution_count": 35,
   "metadata": {},
   "outputs": [
    {
     "name": "stdout",
     "output_type": "stream",
     "text": [
      "NaN is in Map ? true\n",
      "NaN is in Object ? true\n"
     ]
    }
   ],
   "source": [
    "console.log('NaN is in Map ?', aMap.has(NaN))\n",
    "console.log('NaN is in Object ?', NaN in o);"
   ]
  },
  {
   "cell_type": "markdown",
   "metadata": {},
   "source": [
    "### 5. Iteration"
   ]
  },
  {
   "cell_type": "code",
   "execution_count": 36,
   "metadata": {},
   "outputs": [
    {
     "name": "stdout",
     "output_type": "stream",
     "text": [
      "## Iterate over Map\n",
      "string string string\n",
      "number 1 integer\n",
      "number 1.1 floating\n",
      "number NaN NaN NaN\n",
      "function [Function: fn] function\n",
      "symbol Symbol() symbol\n",
      "----------------------------\n",
      "## Iterate over Object\n",
      "string 1 integer\n",
      "string string string\n",
      "string 1.1 floating\n",
      "string NaN Oh NaN\n",
      "string function() {} function\n"
     ]
    }
   ],
   "source": [
    "console.log('## Iterate over Map')\n",
    "for ([k, v] of aMap)\n",
    "    console.log(typeof k, k, v)\n",
    "\n",
    "console.log('----------------------------')\n",
    "console.log('## Iterate over Object')\n",
    "for ([k, v] of Object.entries(o))\n",
    "    console.log(typeof k, k, v)"
   ]
  },
  {
   "cell_type": "markdown",
   "metadata": {},
   "source": [
    "### 6. Delete a key"
   ]
  },
  {
   "cell_type": "code",
   "execution_count": 37,
   "metadata": {},
   "outputs": [
    {
     "name": "stdout",
     "output_type": "stream",
     "text": [
      "┌───────────────────┬────────────────┬────────────┐\n",
      "│ (iteration index) │      Key       │   Values   │\n",
      "├───────────────────┼────────────────┼────────────┤\n",
      "│         0         │    'string'    │  'string'  │\n",
      "│         1         │       1        │ 'integer'  │\n",
      "│         2         │      1.1       │ 'floating' │\n",
      "│         3         │ [Function: fn] │ 'function' │\n",
      "│         4         │    Symbol()    │  'symbol'  │\n",
      "└───────────────────┴────────────────┴────────────┘\n",
      "┌───────────────┬────────────┐\n",
      "│    (index)    │   Values   │\n",
      "├───────────────┼────────────┤\n",
      "│       1       │ 'integer'  │\n",
      "│    string     │  'string'  │\n",
      "│      1.1      │ 'floating' │\n",
      "│ function() {} │ 'function' │\n",
      "└───────────────┴────────────┘\n"
     ]
    }
   ],
   "source": [
    "// delete from Map\n",
    "aMap.delete(NaN)\n",
    "console.table(aMap)\n",
    "\n",
    "// delete from object\n",
    "delete o[NaN]\n",
    "\n",
    "console.table(o)"
   ]
  },
  {
   "cell_type": "markdown",
   "metadata": {},
   "source": [
    "### 7. Performance !"
   ]
  },
  {
   "cell_type": "code",
   "execution_count": 38,
   "metadata": {},
   "outputs": [
    {
     "name": "stdout",
     "output_type": "stream",
     "text": [
      "testing insert 1 mil of index and random\n",
      "Map(index): \t 309 ms\n",
      "Map(random): \t 788 ms\n",
      "OBJ(index): \t 93 ms\n",
      "OBJ(random): \t 1326 ms\n"
     ]
    }
   ],
   "source": [
    "console.log('testing insert 1 mil of index and random');\n",
    "\n",
    "var prefMap = new Map();\n",
    "var t1 = new Date().getTime();\n",
    "\n",
    "// 1. index => index\n",
    "Array.from(Array(1e6)).forEach((v, i) => prefMap.set(i, i));\n",
    "console.log(\"Map(index): \\t\", (new Date().getTime() - t1) + ' ms');\n",
    "var prefMap = new Map();\n",
    "var t1 = new Date().getTime();\n",
    "\n",
    "// 2. random => random\n",
    "Array.from(Array(1e6)).forEach((v, i) => prefMap.set(\"str\" + i, Math.random()));\n",
    "console.log(\"Map(random): \\t\", (new Date().getTime() - t1) + ' ms');\n",
    "prefMap = null; // free mem\n",
    "// -----------------------------------------------------------\n",
    "var prefObj = {};\n",
    "var t1 = new Date().getTime();\n",
    "\n",
    "// 1. index => index\n",
    "Array.from(Array(1e6)).forEach((v, i) => prefObj[i] = i);\n",
    "console.log(\"OBJ(index): \\t\", (new Date().getTime() - t1) + ' ms');\n",
    "\n",
    "var prefObj = {};\n",
    "var t1 = new Date().getTime();\n",
    "// 2. random => random\n",
    "Array.from(Array(1e6)).forEach((v, i) => prefObj[\"str\" + i] = Math.random() );\n",
    "\n",
    "console.log(\"OBJ(random): \\t\", (new Date().getTime() - t1) + ' ms');"
   ]
  },
  {
   "cell_type": "markdown",
   "metadata": {},
   "source": [
    "---\n",
    "\n",
    "## Set\n",
    "\n",
    "----\n",
    "\n",
    "> The Set object lets you store unique values of any type, whether primitive values or object references."
   ]
  },
  {
   "cell_type": "code",
   "execution_count": 39,
   "metadata": {},
   "outputs": [
    {
     "data": {
      "text/plain": [
       "Set { 'words.', 'no', 'said', 'who', '–', 'words', 'are', 'Good' }"
      ]
     },
     "execution_count": 39,
     "metadata": {},
     "output_type": "execute_result"
    }
   ],
   "source": [
    "var aSet = new Set(reversedWords)\n",
    "aSet"
   ]
  },
  {
   "cell_type": "markdown",
   "metadata": {},
   "source": [
    "### What does stroring unique value mean for Set ?"
   ]
  },
  {
   "cell_type": "code",
   "execution_count": 40,
   "metadata": {},
   "outputs": [
    {
     "data": {
      "text/plain": [
       "Set { 'orange' }"
      ]
     },
     "execution_count": 40,
     "metadata": {},
     "output_type": "execute_result"
    }
   ],
   "source": [
    "var setB = new Set()\n",
    "\n",
    "setB.add('orange');"
   ]
  },
  {
   "cell_type": "code",
   "execution_count": 41,
   "metadata": {},
   "outputs": [
    {
     "data": {
      "text/plain": [
       "Set { 'orange', 'apple' }"
      ]
     },
     "execution_count": 41,
     "metadata": {},
     "output_type": "execute_result"
    }
   ],
   "source": [
    "// add another orange and apple.\n",
    "\n",
    "setB.add('orange')\n",
    "setB.add('apple')\n",
    "setB"
   ]
  },
  {
   "cell_type": "code",
   "execution_count": 42,
   "metadata": {},
   "outputs": [
    {
     "data": {
      "text/plain": [
       "[Function: values]"
      ]
     },
     "execution_count": 42,
     "metadata": {},
     "output_type": "execute_result"
    }
   ],
   "source": [
    "// Set is iterable\n",
    "setB[Symbol.iterator]"
   ]
  },
  {
   "cell_type": "code",
   "execution_count": 43,
   "metadata": {},
   "outputs": [
    {
     "name": "stdout",
     "output_type": "stream",
     "text": [
      "orange\n",
      "apple\n"
     ]
    }
   ],
   "source": [
    "for (item of setB)\n",
    "    console.log(item)"
   ]
  },
  {
   "cell_type": "markdown",
   "metadata": {},
   "source": [
    "## Trying implement `search` protocol\n",
    "\n",
    "> What if set can accept search method from regexp `\"orange\".search(set)`"
   ]
  },
  {
   "cell_type": "code",
   "execution_count": 44,
   "metadata": {},
   "outputs": [
    {
     "data": {
      "text/plain": [
       "true"
      ]
     },
     "execution_count": 44,
     "metadata": {},
     "output_type": "execute_result"
    }
   ],
   "source": [
    "setB[Symbol.search] = function(string) {\n",
    "    return this.has(string)\n",
    "}\n",
    "\n",
    "\"orange\".search(setB)"
   ]
  },
  {
   "cell_type": "code",
   "execution_count": 45,
   "metadata": {},
   "outputs": [
    {
     "data": {
      "text/plain": [
       "false"
      ]
     },
     "execution_count": 45,
     "metadata": {},
     "output_type": "execute_result"
    }
   ],
   "source": [
    "\"nothing\".search(setB)"
   ]
  },
  {
   "cell_type": "code",
   "execution_count": 46,
   "metadata": {},
   "outputs": [
    {
     "data": {
      "text/plain": [
       "[\n",
       "  'asyncIterator',\n",
       "  'hasInstance',\n",
       "  'isConcatSpreadable',\n",
       "  'iterator',\n",
       "  'match',\n",
       "  'replace',\n",
       "  'search',\n",
       "  'species',\n",
       "  'split',\n",
       "  'toPrimitive',\n",
       "  'toStringTag',\n",
       "  'unscopables',\n",
       "  'matchAll'\n",
       "]"
      ]
     },
     "execution_count": 46,
     "metadata": {},
     "output_type": "execute_result"
    }
   ],
   "source": [
    "// list all protocol we can play with\n",
    "\n",
    "Object.getOwnPropertyNames(Symbol).filter(s => typeof Symbol[s] === 'symbol')"
   ]
  },
  {
   "cell_type": "code",
   "execution_count": null,
   "metadata": {},
   "outputs": [],
   "source": []
  },
  {
   "cell_type": "markdown",
   "metadata": {},
   "source": [
    "---\n",
    "\n",
    "\n",
    "# Thank You  // Q & A  // Happy Friday !\n",
    "\n",
    "----"
   ]
  },
  {
   "cell_type": "markdown",
   "metadata": {},
   "source": [
    "\n",
    "----\n",
    "\n",
    "## References\n",
    "\n",
    "----\n",
    "\n",
    "- https://stackoverflow.com/questions/21724326/what-is-the-motivation-for-bringing-symbols-to-es6\n",
    "- https://developer.mozilla.org/en-US/docs/Web/JavaScript/Reference/Iteration_protocols\n",
    "- https://developer.mozilla.org/en-US/docs/Web/JavaScript/Reference/Global_Objects/Generator\n",
    "- https://developer.mozilla.org/en-US/docs/Web/JavaScript/Reference/Global_Objects/Map\n",
    "- https://exploringjs.com/deep-js/toc.html\n",
    "- https://tc39.es/\n",
    "- https://en.wikipedia.org/wiki/ECMAScript\n",
    "- https://www.valentinog.com/blog/node-usage/\n",
    "- https://developer.mozilla.org/en-US/docs/Glossary/Primitive\n",
    "- https://developer.mozilla.org/en-US/docs/Web/JavaScript/Reference/Global_Objects/Symbol\n",
    "- https://hacks.mozilla.org/2015/06/es6-in-depth-symbols/\n",
    "- https://developer.mozilla.org/en-US/docs/Web/JavaScript/Memory_Management\n",
    "- https://developer.mozilla.org/en-US/docs/Web/JavaScript/Reference/Global_Objects/Map"
   ]
  }
 ],
 "metadata": {
  "kernelspec": {
   "display_name": "Javascript (Node.js)",
   "language": "javascript",
   "name": "javascript"
  },
  "language_info": {
   "file_extension": ".js",
   "mimetype": "application/javascript",
   "name": "javascript",
   "version": "12.6.0"
  }
 },
 "nbformat": 4,
 "nbformat_minor": 4
}
